{
  "nbformat": 4,
  "nbformat_minor": 0,
  "metadata": {
    "colab": {
      "name": "CASO 1.ipynb",
      "provenance": [],
      "include_colab_link": true
    },
    "kernelspec": {
      "name": "ir",
      "display_name": "R"
    },
    "language_info": {
      "name": "R"
    }
  },
  "cells": [
    {
      "cell_type": "markdown",
      "metadata": {
        "id": "view-in-github",
        "colab_type": "text"
      },
      "source": [
        "<a href=\"https://colab.research.google.com/github/camnavarro/DTMC-Customer-Contract-Stages/blob/main/CASO_1.ipynb\" target=\"_parent\"><img src=\"https://colab.research.google.com/assets/colab-badge.svg\" alt=\"Open In Colab\"/></a>"
      ]
    },
    {
      "cell_type": "markdown",
      "metadata": {
        "id": "E-7DEyz120dl"
      },
      "source": [
        "**CASO 1 PROCESOS ESTOCÁSTICOS**\n",
        "\n",
        "Paula Valencia, Laura Viviana Vargas, Juan Diego Hernandez, Camilo Navarro"
      ]
    },
    {
      "cell_type": "markdown",
      "metadata": {
        "id": "xPGnTKEh7Ybp"
      },
      "source": [
        "Instalamos paquetes y bibliotecas:"
      ]
    },
    {
      "cell_type": "code",
      "metadata": {
        "id": "adSt61ZZ3Oan",
        "colab": {
          "base_uri": "https://localhost:8080/"
        },
        "outputId": "b683ea04-815e-40ab-d36c-88075cb9fb55"
      },
      "source": [
        "install.packages(\"markovchain\")\n",
        "library(markovchain)"
      ],
      "execution_count": null,
      "outputs": [
        {
          "output_type": "stream",
          "text": [
            "Installing package into ‘/usr/local/lib/R/site-library’\n",
            "(as ‘lib’ is unspecified)\n",
            "\n",
            "also installing the dependencies ‘igraph’, ‘matlab’, ‘expm’, ‘RcppParallel’, ‘RcppArmadillo’\n",
            "\n",
            "\n",
            "Package:  markovchain\n",
            "Version:  0.8.5-4\n",
            "Date:     2021-01-07\n",
            "BugReport: https://github.com/spedygiorgio/markovchain/issues\n",
            "\n",
            "\n"
          ],
          "name": "stderr"
        }
      ]
    },
    {
      "cell_type": "markdown",
      "metadata": {
        "id": "EWPSk6ZJ3U8L"
      },
      "source": [
        "Cargamos archivos:"
      ]
    },
    {
      "cell_type": "code",
      "metadata": {
        "id": "deDiqtXO4M9U"
      },
      "source": [
        "DatosNoviembre<- read.csv(\"https://drive.google.com/uc?export=download&id=19xFgDcK00h1ZUmMewxdevyzyU5AH1cZx\", \n",
        "                          sep=\",\", dec=\".\")\n",
        "DatosDiciembre<- read.csv(\"https://drive.google.com/uc?export=download&id=1RXf0_Ej0EmU1AgQAi0X-0wJRHdjkaKjk\", \n",
        "                          sep=\",\", dec=\".\")\n",
        "DatosEnero<- read.csv(\"https://drive.google.com/uc?export=download&id=1aBPwIivuv-6V6ZzpNfiy8EOJ3LyEsopT\", \n",
        "                      sep=\",\", dec=\".\")"
      ],
      "execution_count": null,
      "outputs": []
    },
    {
      "cell_type": "markdown",
      "metadata": {
        "id": "izv_7CYB4sW3"
      },
      "source": [
        "**1. Explique según el contexto del caso si la transición entre las etapas de cada oportunidad  podría modelarse usando una cadena de Markov de orden 1.**"
      ]
    },
    {
      "cell_type": "markdown",
      "metadata": {
        "id": "54gM31maGaHA"
      },
      "source": [
        "Teniendo en cuenta el enunciado del caso y los datos, no se tiene suficiente información para afirmar que una cadena mayor que orden 1 podria ser más precisa o no. Por ejemplo, si un cliente se encuentra en el estado B, no se sabe si influye el hecho de que ese cliente estuvo antes en A o en B. Ademas, Marc Smith esta unicamente interesado en saber las probabilidad de absorción; no le importa saber cuantas veces estuvo un cliente en un estado, sino que solo le interesa saber el porcentaje de contratos ganados o perdidos a largo plazo. Sin embargo, tocaría ver si una cadena de orden dos arroja una probabilidad de absorcion muy diferente. Ademas, se necesitarían más insights del comportamiento de las oportunidades de negocios si es que se quiere considerar una cadena de orden 2 o más. \n"
      ]
    },
    {
      "cell_type": "markdown",
      "metadata": {
        "id": "nGg5d_3w45Kf"
      },
      "source": [
        "**2. Los datos adjuntos corresponden a una muestra de algunas oportunidades de cada mes.  Con cada conjunto de datos.**\n",
        "\n",
        "***a. Construya la matriz de frecuencias y realice estadística descriptiva.***"
      ]
    },
    {
      "cell_type": "code",
      "metadata": {
        "id": "36lAt71S5RiK",
        "colab": {
          "base_uri": "https://localhost:8080/",
          "height": 1000
        },
        "outputId": "c1283b39-fc6c-4e06-b70d-6435214949fa"
      },
      "source": [
        "#Se declaran las \"secuencias iniciales\", estas aun no han sido divididas \n",
        "#por cliente\n",
        "Seq_Nov_Inicial<-DatosNoviembre[,2]\n",
        "Seq_Dic_Inicial<-DatosDiciembre[,2]\n",
        "Seq_Ene_Inicial<-DatosEnero[,2]\n",
        "\n",
        "#Se separa la secuencia por cliente\n",
        "Seq_Nov <- split(DatosNoviembre$Secuencia, DatosNoviembre$Cliente, drop=FALSE)\n",
        "Seq_Dic <- split(DatosDiciembre$Secuencia, DatosDiciembre$Cliente, drop=FALSE)\n",
        "Seq_Ene <- split(DatosEnero$Secuencia, DatosEnero$Cliente, drop=FALSE)\n",
        "\n",
        "#Se crean las matrices de frecuencia\n",
        "Frec_Nov<-createSequenceMatrix(Seq_Nov)\n",
        "Frec_Dic<-createSequenceMatrix(Seq_Dic)\n",
        "Frec_Ene<-createSequenceMatrix(Seq_Ene)\n",
        "\n",
        "#Graficamos\n",
        "Bar_Nov<-barplot(Frec_Nov, main=\"FRECUENCIA NOVIEMBRE\", \n",
        "                 col=c(\"antiquewhite4\", \"antiquewhite3\", \"antiquewhite\"))\n",
        "Bar_Dic<-barplot(Frec_Dic, main=\"FRECUENCIA DICIEMBRE\", \n",
        "                 col=c(\"antiquewhite4\", \"antiquewhite3\", \"antiquewhite\"))\n",
        "Bar_Ene<-barplot(Frec_Ene, main=\"FRECUENCIA ENERO\", \n",
        "                 col=c(\"antiquewhite4\", \"antiquewhite3\", \"antiquewhite\"))"
      ],
      "execution_count": null,
      "outputs": [
        {
          "output_type": "display_data",
          "data": {
            "image/png": "[encoded data removed]",
            "text/plain": [
              "Plot with title “FRECUENCIA NOVIEMBRE”"
            ]
          },
          "metadata": {
            "tags": [],
            "image/png": {
              "width": 420,
              "height": 420
            }
          }
        },
        {
          "output_type": "display_data",
          "data": {
            "image/png": "[encoded data removed]",
            "text/plain": [
              "Plot with title “FRECUENCIA DICIEMBRE”"
            ]
          },
          "metadata": {
            "tags": [],
            "image/png": {
              "width": 420,
              "height": 420
            }
          }
        },
        {
          "output_type": "display_data",
          "data": {
            "image/png": "[encoded data removed]",
            "text/plain": [
              "Plot with title “FRECUENCIA ENERO”"
            ]
          },
          "metadata": {
            "tags": [],
            "image/png": {
              "width": 420,
              "height": 420
            }
          }
        }
      ]
    },
    {
      "cell_type": "markdown",
      "metadata": {
        "id": "YmYC1kso5pnY"
      },
      "source": [
        "Una vez construimos las matrices de frecuencia de cada mes, podemos hacer un diagrama de barras a partir de estas. Para leer la grafica es necesario entender que el Eje horizontal es el estado al que llega la oportunidad despues de una transicion, y el eje vertical la frecuencia ; Por otro lado cada color tiene su significado , El primer color que podemos apreciar \"antiquewhite4\" (El mas oscuro) es  el estado del cual parte el cliente , por lo tanto podemos ver en la primera barra la frecuencia que pasa del estado A al estado A , luego vemos los estados que pasan del estado A y terminan en el estado B. Asi para cada uno de los colores. El orden para comprender el estado desde el que parten es el siguiente:\n",
        "1. \"antiquewhite4\"<- Parte del estado A\n",
        "2. \"antiquewhite3\"<- Parte del estado B\n",
        "3. \"antiquewhite\"<- Parte del estado C\n",
        "4. Los estados L y w no se aprecian graficamente ya que son estados absorbentes y no podemos partir de estos.\n",
        "\n",
        "Dando un vistazo rapido a cada uno de los graficos de las frecuencias podemos ver que entre ellos son muy semejantes lo que nos puede dar a entender que el comportamiento de los clientes a travez de los meses es parecido.\n",
        "Con el grafico podemos observar varias cosas. Primero, vemos que en todos los meses, es mas probable ir de A a L y de C a L; ir de B a L no es tan comun. De igual forma, vemos que hay más oportunidades que pasan de C a L que de C a W, y teniendo en cuenta que tambien hay transiciones de A a L y de B a L, decimos que en general hay mas oportunidades que se pierden. "
      ]
    },
    {
      "cell_type": "markdown",
      "metadata": {
        "id": "0X-36InU52KQ"
      },
      "source": [
        "***b. Estime una cadena de Markov de orden 1.***"
      ]
    },
    {
      "cell_type": "code",
      "metadata": {
        "id": "vnLkyv7b59UC",
        "colab": {
          "base_uri": "https://localhost:8080/",
          "height": 1000
        },
        "outputId": "bee50824-8e92-4d4b-ccba-5e63d152dd1e"
      },
      "source": [
        "#Se declaran los estados de la variable\n",
        "Estados<- c(\"A\", \"B\", \"C\", \"L\", \"W\")\n",
        "\n",
        "#Se crean las matrices de transicion y las DTCM\n",
        "#Se deben modificar las matrices de transicion obtenidas\n",
        "#para poder poner los \"1\" en la diagonal principal en los estados\n",
        "#absorbentes\n",
        "\n",
        "#NOVIEMBRE\n",
        "Trans_Nov<-Frec_Nov/rowSums(Frec_Nov)\n",
        "\n",
        "Trans_Nov[4,4]<-1\n",
        "Trans_Nov[5,5]<-1\n",
        "Trans_Nov[4,1]<-0\n",
        "Trans_Nov[4,2]<-0\n",
        "Trans_Nov[4,3]<-0\n",
        "Trans_Nov[4,5]<-0\n",
        "Trans_Nov[5,1]<-0\n",
        "Trans_Nov[5,2]<-0\n",
        "Trans_Nov[5,3]<-0\n",
        "Trans_Nov[5,4]<-0\n",
        "\n",
        "mcNoviembre<-new(\"markovchain\", states=Estados, byrow=TRUE, \n",
        "                 transitionMatrix=Trans_Nov, name=\"Noviembre\")\n",
        "\n",
        "\n",
        "#DICIEMBRE\n",
        "Trans_Dic<-Frec_Dic/rowSums(Frec_Dic)\n",
        "Trans_Dic[4,4]<-1\n",
        "Trans_Dic[5,5]<-1\n",
        "Trans_Dic[4,1]<-0\n",
        "Trans_Dic[4,2]<-0\n",
        "Trans_Dic[4,3]<-0\n",
        "Trans_Dic[4,5]<-0\n",
        "Trans_Dic[5,1]<-0\n",
        "Trans_Dic[5,2]<-0\n",
        "Trans_Dic[5,3]<-0\n",
        "Trans_Dic[5,4]<-0\n",
        "\n",
        "mcDiciembre<-new(\"markovchain\", states=Estados, byrow=TRUE, \n",
        "                 transitionMatrix=Trans_Dic, name=\"Diciembre\")\n",
        "\n",
        "#ENERO\n",
        "Trans_Ene<-Frec_Ene/rowSums(Frec_Ene)\n",
        "Trans_Ene[4,4]<-1\n",
        "Trans_Ene[5,5]<-1\n",
        "Trans_Ene[4,1]<-0\n",
        "Trans_Ene[4,2]<-0\n",
        "Trans_Ene[4,3]<-0\n",
        "Trans_Ene[4,5]<-0\n",
        "Trans_Ene[5,1]<-0\n",
        "Trans_Ene[5,2]<-0\n",
        "Trans_Ene[5,3]<-0\n",
        "Trans_Ene[5,4]<-0\n",
        "\n",
        "mcEnero<-new(\"markovchain\", states=Estados, byrow=TRUE, \n",
        "                 transitionMatrix=Trans_Ene, name=\"Enero\")\n",
        "\n",
        "#Imprimimos las cadenas y vemos su respectivo resumen\n",
        "mcNoviembre\n",
        "summary(mcNoviembre)\n",
        "\"··\"\n",
        "\"··\"\n",
        "mcDiciembre\n",
        "summary(mcNoviembre)\n",
        "\"··\"\n",
        "\"··\"\n",
        "mcEnero\n",
        "summary(mcEnero)"
      ],
      "execution_count": null,
      "outputs": [
        {
          "output_type": "display_data",
          "data": {
            "text/plain": [
              "Noviembre \n",
              " A  5 - dimensional discrete Markov Chain defined by the following states: \n",
              " A, B, C, L, W \n",
              " The transition matrix  (by rows)  is defined as follows: \n",
              "          A         B         C         L         W\n",
              "A 0.5071471 0.2979594 0.0000000 0.1948935 0.0000000\n",
              "B 0.0000000 0.3987468 0.4527551 0.1484981 0.0000000\n",
              "C 0.0000000 0.0000000 0.2973140 0.4555418 0.2471442\n",
              "L 0.0000000 0.0000000 0.0000000 1.0000000 0.0000000\n",
              "W 0.0000000 0.0000000 0.0000000 0.0000000 1.0000000\n"
            ]
          },
          "metadata": {
            "tags": []
          }
        },
        {
          "output_type": "stream",
          "text": [
            "Noviembre  Markov chain that is composed by: \n",
            "Closed classes: \n",
            "L \n",
            "W \n",
            "Recurrent classes: \n",
            "{L},{W}\n",
            "Transient classes: \n",
            "{A},{B},{C}\n",
            "The Markov chain is not irreducible \n",
            "The absorbing states are: L W\n"
          ],
          "name": "stdout"
        },
        {
          "output_type": "display_data",
          "data": {
            "text/plain": [
              "[1] \"··\""
            ],
            "text/latex": "'··'",
            "text/markdown": "'··'",
            "text/html": [
              "'··'"
            ]
          },
          "metadata": {
            "tags": []
          }
        },
        {
          "output_type": "display_data",
          "data": {
            "text/plain": [
              "[1] \"··\""
            ],
            "text/latex": "'··'",
            "text/markdown": "'··'",
            "text/html": [
              "'··'"
            ]
          },
          "metadata": {
            "tags": []
          }
        },
        {
          "output_type": "display_data",
          "data": {
            "text/plain": [
              "Diciembre \n",
              " A  5 - dimensional discrete Markov Chain defined by the following states: \n",
              " A, B, C, L, W \n",
              " The transition matrix  (by rows)  is defined as follows: \n",
              "          A         B         C         L         W\n",
              "A 0.5027597 0.3027199 0.0000000 0.1945204 0.0000000\n",
              "B 0.0000000 0.3967499 0.4565002 0.1467499 0.0000000\n",
              "C 0.0000000 0.0000000 0.2988891 0.4626389 0.2384721\n",
              "L 0.0000000 0.0000000 0.0000000 1.0000000 0.0000000\n",
              "W 0.0000000 0.0000000 0.0000000 0.0000000 1.0000000\n"
            ]
          },
          "metadata": {
            "tags": []
          }
        },
        {
          "output_type": "stream",
          "text": [
            "Noviembre  Markov chain that is composed by: \n",
            "Closed classes: \n",
            "L \n",
            "W \n",
            "Recurrent classes: \n",
            "{L},{W}\n",
            "Transient classes: \n",
            "{A},{B},{C}\n",
            "The Markov chain is not irreducible \n",
            "The absorbing states are: L W\n"
          ],
          "name": "stdout"
        },
        {
          "output_type": "display_data",
          "data": {
            "text/plain": [
              "[1] \"··\""
            ],
            "text/latex": "'··'",
            "text/markdown": "'··'",
            "text/html": [
              "'··'"
            ]
          },
          "metadata": {
            "tags": []
          }
        },
        {
          "output_type": "display_data",
          "data": {
            "text/plain": [
              "[1] \"··\""
            ],
            "text/latex": "'··'",
            "text/markdown": "'··'",
            "text/html": [
              "'··'"
            ]
          },
          "metadata": {
            "tags": []
          }
        },
        {
          "output_type": "display_data",
          "data": {
            "text/plain": [
              "Enero \n",
              " A  5 - dimensional discrete Markov Chain defined by the following states: \n",
              " A, B, C, L, W \n",
              " The transition matrix  (by rows)  is defined as follows: \n",
              "          A         B         C         L         W\n",
              "A 0.5038452 0.2967998 0.0000000 0.1993550 0.0000000\n",
              "B 0.0000000 0.4000602 0.4528132 0.1471267 0.0000000\n",
              "C 0.0000000 0.0000000 0.3037779 0.4573631 0.2388589\n",
              "L 0.0000000 0.0000000 0.0000000 1.0000000 0.0000000\n",
              "W 0.0000000 0.0000000 0.0000000 0.0000000 1.0000000\n"
            ]
          },
          "metadata": {
            "tags": []
          }
        },
        {
          "output_type": "stream",
          "text": [
            "Enero  Markov chain that is composed by: \n",
            "Closed classes: \n",
            "L \n",
            "W \n",
            "Recurrent classes: \n",
            "{L},{W}\n",
            "Transient classes: \n",
            "{A},{B},{C}\n",
            "The Markov chain is not irreducible \n",
            "The absorbing states are: L W\n"
          ],
          "name": "stdout"
        }
      ]
    },
    {
      "cell_type": "markdown",
      "metadata": {
        "id": "HnBLIOskULx5"
      },
      "source": [
        "Observamos que, a simple vista, las cadenas de cada mes parecen tener probabilidades de transicion sumamente parecida. Se podria decir con casi toda la seguridad de que al realizar la prueba de homogeneidad más adelante, saldrá que las cadenas son homogeneas."
      ]
    },
    {
      "cell_type": "markdown",
      "metadata": {
        "id": "bbI2pHpM6XoE"
      },
      "source": [
        "***c. Realice el gráfico de estados e interprete los resultados.***"
      ]
    },
    {
      "cell_type": "code",
      "metadata": {
        "id": "hTkILkH86n5T",
        "colab": {
          "base_uri": "https://localhost:8080/",
          "height": 1000
        },
        "outputId": "28c5311a-ce82-4a7c-fc18-82aadd6457fc"
      },
      "source": [
        "#Graficamos las DTMC\n",
        "PlotNov<-as(mcNoviembre, \"markovchain\")\n",
        "plot(PlotNov)\n",
        "\n",
        "PlotDic<-as(mcDiciembre, \"markovchain\")\n",
        "plot(PlotDic)\n",
        "\n",
        "PlotEne<-as(mcEnero, \"markovchain\")\n",
        "plot(PlotEne)"
      ],
      "execution_count": null,
      "outputs": [
        {
          "output_type": "display_data",
          "data": {
            "image/png": "[encoded data removed]",
            "text/plain": [
              "Plot with title “”"
            ]
          },
          "metadata": {
            "tags": [],
            "image/png": {
              "width": 420,
              "height": 420
            }
          }
        },
        {
          "output_type": "display_data",
          "data": {
            "image/png": "[encoded data removed]",
            "text/plain": [
              "Plot with title “”"
            ]
          },
          "metadata": {
            "tags": [],
            "image/png": {
              "width": 420,
              "height": 420
            }
          }
        },
        {
          "output_type": "display_data",
          "data": {
            "image/png": "[encoded data removed]",
            "text/plain": [
              "Plot with title “”"
            ]
          },
          "metadata": {
            "tags": [],
            "image/png": {
              "width": 420,
              "height": 420
            }
          }
        }
      ]
    },
    {
      "cell_type": "markdown",
      "metadata": {
        "id": "EPab-3z962FD"
      },
      "source": [
        "Analisis \n",
        "\n",
        "Según los anteriores gráficos, se puede ver que las probabilidades son muy similares para todos los meses. Por esta razón, se analiza un sólo gráfico, donde se puede ver que el momento con mayor probabilidad de pérdida del contrato con una oportunidad de venta es en el estado C. Asimismo, estando en el estado A es más probable volver a saltar a él mismo que ir al estado B o al L. También se puede ver que el estado B tiene la probabilidad más baja de pérdida de contrato. Del mismo modo, confirmamos que los estados W y L son absorbentes, pues la probabilidad de ir de W a W o de L a L es 1. Finalmente se concluye que el camino para llegar al estado W es muy extenso y exiten muchas probabilidades de pérdida en el proceso. "
      ]
    },
    {
      "cell_type": "markdown",
      "metadata": {
        "id": "gZ-Rjgbf67m7"
      },
      "source": [
        "***d. Pruebe el supuesto de Markov***"
      ]
    },
    {
      "cell_type": "code",
      "metadata": {
        "id": "bN87lGx87CCo",
        "colab": {
          "base_uri": "https://localhost:8080/"
        },
        "outputId": "92fe470b-bb8a-4736-c4bc-50e0f8976e80"
      },
      "source": [
        "#Convrertir las listas en secuencias\n",
        "#NOVIEMBRE\n",
        "Secuencia_Nov<-Seq_Nov\n",
        "for(i in 1:10000){\n",
        "  Secuencia_Nov[[i]]<-c(Seq_Nov[i],NA)\n",
        "}\n",
        "\n",
        "Final_Noviembre<-unlist(Secuencia_Nov, use.names=FALSE)\n",
        "\n",
        "\n",
        "verifyMarkovProperty(Final_Noviembre, verbose=TRUE)\n",
        "\n",
        "#DICIEMBRE\n",
        "Secuencia_Dic<-Seq_Dic\n",
        "for(i in 1:10000){\n",
        "  Secuencia_Dic[[i]]<-c(Seq_Dic[i],NA)\n",
        "}\n",
        "\n",
        "Final_Diciembre<-unlist(Secuencia_Dic, use.names=FALSE)\n",
        "\n",
        "verifyMarkovProperty(Final_Diciembre, verbose=TRUE)\n",
        "\n",
        "\n",
        "#ENERO\n",
        "Secuencia_Ene<-Seq_Ene\n",
        "for(i in 1:10000){\n",
        "  Secuencia_Ene[[i]]<-c(Seq_Ene[i],NA)\n",
        "}\n",
        "\n",
        "Final_Enero<-unlist(Secuencia_Ene, use.names=FALSE)\n",
        "\n",
        "\n",
        "verifyMarkovProperty(Final_Enero, verbose=TRUE)"
      ],
      "execution_count": null,
      "outputs": [
        {
          "output_type": "stream",
          "text": [
            "Testing markovianity property on given data sequence\n",
            "Chi - square statistic is: 3.398556 \n",
            "Degrees of freedom are: 18 \n",
            "And corresponding p-value is: 0.9999286 \n",
            "Testing markovianity property on given data sequence\n",
            "Chi - square statistic is: 12.00375 \n",
            "Degrees of freedom are: 17 \n",
            "And corresponding p-value is: 0.79991 \n",
            "Testing markovianity property on given data sequence\n",
            "Chi - square statistic is: 2.476112 \n",
            "Degrees of freedom are: 17 \n",
            "And corresponding p-value is: 0.9999829 \n"
          ],
          "name": "stdout"
        }
      ]
    },
    {
      "cell_type": "markdown",
      "metadata": {
        "id": "q-zuNzIP75ui"
      },
      "source": [
        "En base a los resultados de la prueba del supuesto de Markov en cada mes se puede inferir que no se rechaza el supuesto al obtener en cada prueba un p-value mayor a la significancia de 0.05. Resultados que indican independencia entre los eventos de las tres cadenas."
      ]
    },
    {
      "cell_type": "markdown",
      "metadata": {
        "id": "curkx0jvSzE8"
      },
      "source": [
        " **3. Use une prueba de homogeneidad entre las cadenas de Markov de cada mes para analizar\n",
        "si es posible crear una única cadena de Markov.**"
      ]
    },
    {
      "cell_type": "code",
      "metadata": {
        "colab": {
          "base_uri": "https://localhost:8080/",
          "height": 235
        },
        "id": "42Ao6tgSbedI",
        "outputId": "88f694dd-ff5d-4604-bfe4-fbd3d66e57c0"
      },
      "source": [
        "#Prueba de Homogeneidad\n",
        "\n",
        "Lista<-list(Frec_Nov, Frec_Dic, Frec_Ene)\n",
        "verifyHomogeneity(Lista, verbose=TRUE)"
      ],
      "execution_count": null,
      "outputs": [
        {
          "output_type": "stream",
          "text": [
            "Warning message in verifyHomogeneity(Lista, verbose = TRUE):\n",
            "“The accuracy of the statistical inference functions has been questioned. It will be thoroughly investigated in future versions of the package.”\n"
          ],
          "name": "stderr"
        },
        {
          "output_type": "stream",
          "text": [
            "Testing homogeneity of DTMC underlying input list \n",
            "ChiSq statistic is 7.617377 d.o.f are 48 corresponding p-value is 1 \n"
          ],
          "name": "stdout"
        },
        {
          "output_type": "display_data",
          "data": {
            "text/plain": [
              "$statistic\n",
              "[1] 7.617377\n",
              "\n",
              "$dof\n",
              "[1] 48\n",
              "\n",
              "$pvalue\n",
              "[1] 1\n"
            ],
            "text/latex": "\\begin{description}\n\\item[\\$statistic] 7.61737729341554\n\\item[\\$dof] 48\n\\item[\\$pvalue] 0.999999999996343\n\\end{description}\n",
            "text/markdown": "$statistic\n:   7.61737729341554\n$dof\n:   48\n$pvalue\n:   0.999999999996343\n\n\n",
            "text/html": [
              "<dl>\n",
              "\t<dt>$statistic</dt>\n",
              "\t\t<dd>7.61737729341554</dd>\n",
              "\t<dt>$dof</dt>\n",
              "\t\t<dd>48</dd>\n",
              "\t<dt>$pvalue</dt>\n",
              "\t\t<dd>0.999999999996343</dd>\n",
              "</dl>\n"
            ]
          },
          "metadata": {
            "tags": []
          }
        }
      ]
    },
    {
      "cell_type": "markdown",
      "metadata": {
        "id": "AkhSTEOy9ol9"
      },
      "source": [
        "El resultado de la prueba de homogeneidad entre las cadenas arroja un p-value mayor a la significancia de 0.05 por lo que no se rechaza la hipótesis y confirma que es posible crear una única cadena agregada de los tres meses, ya que las probabilidades de transición no dependen del instante de tiempo en el que se inicie la transición."
      ]
    },
    {
      "cell_type": "markdown",
      "metadata": {
        "id": "MCgwRCXGWAna"
      },
      "source": [
        "**4. Construya la matriz agregada con todos los meses.**"
      ]
    },
    {
      "cell_type": "code",
      "metadata": {
        "colab": {
          "base_uri": "https://localhost:8080/",
          "height": 357
        },
        "id": "I0olur7pbpdl",
        "outputId": "0b14dc9a-81e1-4b78-d327-bee8786a4f2a"
      },
      "source": [
        "#Secuencia Agregada y matriz agregada\n",
        "Secuencia_Agregada<-c(Final_Noviembre, Final_Diciembre, Final_Enero)\n",
        "\n",
        "\n",
        "Frecuencia_Agregada<-createSequenceMatrix(Secuencia_Agregada)\n",
        "\n",
        "Trans_Agr<-Frecuencia_Agregada/rowSums(Frecuencia_Agregada)\n",
        "\n",
        "\n",
        "Trans_Agr[4,4]<-1\n",
        "Trans_Agr[5,5]<-1\n",
        "Trans_Agr[4,1]<-0\n",
        "Trans_Agr[4,2]<-0\n",
        "Trans_Agr[4,3]<-0\n",
        "Trans_Agr[4,5]<-0\n",
        "Trans_Agr[5,1]<-0\n",
        "Trans_Agr[5,2]<-0\n",
        "Trans_Agr[5,3]<-0\n",
        "Trans_Agr[5,4]<-0\n",
        "\n",
        "mcAgregada<-new(\"markovchain\", states=Estados, byrow=TRUE, \n",
        "                 transitionMatrix=Trans_Agr, name=\"Agregada\")\n",
        "\n",
        "mcAgregada\n",
        "summary(mcAgregada)"
      ],
      "execution_count": null,
      "outputs": [
        {
          "output_type": "display_data",
          "data": {
            "text/plain": [
              "Agregada \n",
              " A  5 - dimensional discrete Markov Chain defined by the following states: \n",
              " A, B, C, L, W \n",
              " The transition matrix  (by rows)  is defined as follows: \n",
              "          A         B         C         L         W\n",
              "A 0.5045909 0.2991545 0.0000000 0.1962546 0.0000000\n",
              "B 0.0000000 0.3985125 0.4540293 0.1474582 0.0000000\n",
              "C 0.0000000 0.0000000 0.2999898 0.4585338 0.2414764\n",
              "L 0.0000000 0.0000000 0.0000000 1.0000000 0.0000000\n",
              "W 0.0000000 0.0000000 0.0000000 0.0000000 1.0000000\n"
            ]
          },
          "metadata": {
            "tags": []
          }
        },
        {
          "output_type": "stream",
          "text": [
            "Agregada  Markov chain that is composed by: \n",
            "Closed classes: \n",
            "L \n",
            "W \n",
            "Recurrent classes: \n",
            "{L},{W}\n",
            "Transient classes: \n",
            "{A},{B},{C}\n",
            "The Markov chain is not irreducible \n",
            "The absorbing states are: L W\n"
          ],
          "name": "stdout"
        }
      ]
    },
    {
      "cell_type": "markdown",
      "metadata": {
        "id": "TKsneF_rgOyS"
      },
      "source": [
        "**5. Responda y analice las siguientes preguntas**\n"
      ]
    },
    {
      "cell_type": "markdown",
      "metadata": {
        "id": "q-bkh5dogXeJ"
      },
      "source": [
        " ***a. ¿Cuál es la probabilidad de que una oportunidad pase dos transiciones en la etapa **\n",
        "A, después pase inmediatamente a la etapa B y de ahí se demore 5 transiciones en\n",
        "ser ganada? ***"
      ]
    },
    {
      "cell_type": "code",
      "metadata": {
        "colab": {
          "base_uri": "https://localhost:8080/"
        },
        "id": "zfpv9cg5zZw2",
        "outputId": "e2ff530d-a01b-4f60-d1c1-564ef0e20aa7"
      },
      "source": [
        "install.packages(\"expm\")\n",
        "library(expm)"
      ],
      "execution_count": null,
      "outputs": [
        {
          "output_type": "stream",
          "text": [
            "Installing package into ‘/usr/local/lib/R/site-library’\n",
            "(as ‘lib’ is unspecified)\n",
            "\n",
            "Loading required package: Matrix\n",
            "\n",
            "\n",
            "Attaching package: ‘expm’\n",
            "\n",
            "\n",
            "The following object is masked from ‘package:Matrix’:\n",
            "\n",
            "    expm\n",
            "\n",
            "\n"
          ],
          "name": "stderr"
        }
      ]
    },
    {
      "cell_type": "markdown",
      "metadata": {
        "id": "p5jIhRr9nQ5p"
      },
      "source": [
        "Necesitamos una transicion de A a A, luego una de A a B, luego, en 4 transiciones de B a C para que en una transicion se pueda ir de C a W. Asi, aseguramos que de B a W hubo 5 transiciones"
      ]
    },
    {
      "cell_type": "markdown",
      "metadata": {
        "id": "CeeJal4dhFQS"
      },
      "source": [
        " $$P(X_7=W, X_2=B, X_1=A | X_0=A ) = P(X_1=A |X_0=A)*P(X_2=B |X_1=A)*P(X_6=C |X_2=B)*P(X_7=W |X_6=C)$$ \n",
        "\n"
      ]
    },
    {
      "cell_type": "code",
      "metadata": {
        "colab": {
          "base_uri": "https://localhost:8080/",
          "height": 221
        },
        "id": "yw6VxpV-kOnm",
        "outputId": "3d2f13f8-5376-4037-cbc8-87670dabe61e"
      },
      "source": [
        "Trans_Agr"
      ],
      "execution_count": null,
      "outputs": [
        {
          "output_type": "display_data",
          "data": {
            "text/plain": [
              "  A         B         C         L         W        \n",
              "A 0.5045909 0.2991545 0.0000000 0.1962546 0.0000000\n",
              "B 0.0000000 0.3985125 0.4540293 0.1474582 0.0000000\n",
              "C 0.0000000 0.0000000 0.2999898 0.4585338 0.2414764\n",
              "L 0.0000000 0.0000000 0.0000000 1.0000000 0.0000000\n",
              "W 0.0000000 0.0000000 0.0000000 0.0000000 1.0000000"
            ],
            "text/latex": "A matrix: 5 × 5 of type dbl\n\\begin{tabular}{r|lllll}\n  & A & B & C & L & W\\\\\n\\hline\n\tA & 0.5045909 & 0.2991545 & 0.0000000 & 0.1962546 & 0.0000000\\\\\n\tB & 0.0000000 & 0.3985125 & 0.4540293 & 0.1474582 & 0.0000000\\\\\n\tC & 0.0000000 & 0.0000000 & 0.2999898 & 0.4585338 & 0.2414764\\\\\n\tL & 0.0000000 & 0.0000000 & 0.0000000 & 1.0000000 & 0.0000000\\\\\n\tW & 0.0000000 & 0.0000000 & 0.0000000 & 0.0000000 & 1.0000000\\\\\n\\end{tabular}\n",
            "text/markdown": "\nA matrix: 5 × 5 of type dbl\n\n| <!--/--> | A | B | C | L | W |\n|---|---|---|---|---|---|\n| A | 0.5045909 | 0.2991545 | 0.0000000 | 0.1962546 | 0.0000000 |\n| B | 0.0000000 | 0.3985125 | 0.4540293 | 0.1474582 | 0.0000000 |\n| C | 0.0000000 | 0.0000000 | 0.2999898 | 0.4585338 | 0.2414764 |\n| L | 0.0000000 | 0.0000000 | 0.0000000 | 1.0000000 | 0.0000000 |\n| W | 0.0000000 | 0.0000000 | 0.0000000 | 0.0000000 | 1.0000000 |\n\n",
            "text/html": [
              "<table class=\"dataframe\">\n",
              "<caption>A matrix: 5 × 5 of type dbl</caption>\n",
              "<thead>\n",
              "\t<tr><th></th><th scope=col>A</th><th scope=col>B</th><th scope=col>C</th><th scope=col>L</th><th scope=col>W</th></tr>\n",
              "</thead>\n",
              "<tbody>\n",
              "\t<tr><th scope=row>A</th><td>0.5045909</td><td>0.2991545</td><td>0.0000000</td><td>0.1962546</td><td>0.0000000</td></tr>\n",
              "\t<tr><th scope=row>B</th><td>0.0000000</td><td>0.3985125</td><td>0.4540293</td><td>0.1474582</td><td>0.0000000</td></tr>\n",
              "\t<tr><th scope=row>C</th><td>0.0000000</td><td>0.0000000</td><td>0.2999898</td><td>0.4585338</td><td>0.2414764</td></tr>\n",
              "\t<tr><th scope=row>L</th><td>0.0000000</td><td>0.0000000</td><td>0.0000000</td><td>1.0000000</td><td>0.0000000</td></tr>\n",
              "\t<tr><th scope=row>W</th><td>0.0000000</td><td>0.0000000</td><td>0.0000000</td><td>0.0000000</td><td>1.0000000</td></tr>\n",
              "</tbody>\n",
              "</table>\n"
            ]
          },
          "metadata": {
            "tags": []
          }
        }
      ]
    },
    {
      "cell_type": "markdown",
      "metadata": {
        "id": "4-DIqepCkUiV"
      },
      "source": [
        "Calculamos las probabilidades que son a un salto:\n",
        "$$P(X_1=A |X_0=A)=0.5046$$\n",
        "$$P(X_2=B |X_1=A)=0.2992$$\n",
        "$$𝑃(𝑋_7=𝑊|𝑋_6=𝐶)=0.2415$$"
      ]
    },
    {
      "cell_type": "code",
      "metadata": {
        "colab": {
          "base_uri": "https://localhost:8080/",
          "height": 221
        },
        "id": "Il2KV-p6kmcO",
        "outputId": "6d6bba5c-8a30-463d-bd8e-d12aea024691"
      },
      "source": [
        "Trans_Agr4<-Trans_Agr%^%4\n",
        "Trans_Agr4"
      ],
      "execution_count": null,
      "outputs": [
        {
          "output_type": "display_data",
          "data": {
            "text/plain": [
              "  A          B          C           L         W         \n",
              "A 0.06482728 0.11169375 0.132487080 0.6187337 0.07225816\n",
              "B 0.00000000 0.02522131 0.078906465 0.6692674 0.22660484\n",
              "C 0.00000000 0.00000000 0.008098894 0.6497337 0.34216744\n",
              "L 0.00000000 0.00000000 0.000000000 1.0000000 0.00000000\n",
              "W 0.00000000 0.00000000 0.000000000 0.0000000 1.00000000"
            ],
            "text/latex": "A matrix: 5 × 5 of type dbl\n\\begin{tabular}{r|lllll}\n  & A & B & C & L & W\\\\\n\\hline\n\tA & 0.06482728 & 0.11169375 & 0.132487080 & 0.6187337 & 0.07225816\\\\\n\tB & 0.00000000 & 0.02522131 & 0.078906465 & 0.6692674 & 0.22660484\\\\\n\tC & 0.00000000 & 0.00000000 & 0.008098894 & 0.6497337 & 0.34216744\\\\\n\tL & 0.00000000 & 0.00000000 & 0.000000000 & 1.0000000 & 0.00000000\\\\\n\tW & 0.00000000 & 0.00000000 & 0.000000000 & 0.0000000 & 1.00000000\\\\\n\\end{tabular}\n",
            "text/markdown": "\nA matrix: 5 × 5 of type dbl\n\n| <!--/--> | A | B | C | L | W |\n|---|---|---|---|---|---|\n| A | 0.06482728 | 0.11169375 | 0.132487080 | 0.6187337 | 0.07225816 |\n| B | 0.00000000 | 0.02522131 | 0.078906465 | 0.6692674 | 0.22660484 |\n| C | 0.00000000 | 0.00000000 | 0.008098894 | 0.6497337 | 0.34216744 |\n| L | 0.00000000 | 0.00000000 | 0.000000000 | 1.0000000 | 0.00000000 |\n| W | 0.00000000 | 0.00000000 | 0.000000000 | 0.0000000 | 1.00000000 |\n\n",
            "text/html": [
              "<table class=\"dataframe\">\n",
              "<caption>A matrix: 5 × 5 of type dbl</caption>\n",
              "<thead>\n",
              "\t<tr><th></th><th scope=col>A</th><th scope=col>B</th><th scope=col>C</th><th scope=col>L</th><th scope=col>W</th></tr>\n",
              "</thead>\n",
              "<tbody>\n",
              "\t<tr><th scope=row>A</th><td>0.06482728</td><td>0.11169375</td><td>0.132487080</td><td>0.6187337</td><td>0.07225816</td></tr>\n",
              "\t<tr><th scope=row>B</th><td>0.00000000</td><td>0.02522131</td><td>0.078906465</td><td>0.6692674</td><td>0.22660484</td></tr>\n",
              "\t<tr><th scope=row>C</th><td>0.00000000</td><td>0.00000000</td><td>0.008098894</td><td>0.6497337</td><td>0.34216744</td></tr>\n",
              "\t<tr><th scope=row>L</th><td>0.00000000</td><td>0.00000000</td><td>0.000000000</td><td>1.0000000</td><td>0.00000000</td></tr>\n",
              "\t<tr><th scope=row>W</th><td>0.00000000</td><td>0.00000000</td><td>0.000000000</td><td>0.0000000</td><td>1.00000000</td></tr>\n",
              "</tbody>\n",
              "</table>\n"
            ]
          },
          "metadata": {
            "tags": []
          }
        }
      ]
    },
    {
      "cell_type": "markdown",
      "metadata": {
        "id": "6sDaJGDGmFLb"
      },
      "source": [
        "$$P(X_6=C |X_2=B)=0.0789$$"
      ]
    },
    {
      "cell_type": "markdown",
      "metadata": {
        "id": "_o6R2QIRtCsQ"
      },
      "source": [
        "Respuesta:"
      ]
    },
    {
      "cell_type": "code",
      "metadata": {
        "colab": {
          "base_uri": "https://localhost:8080/",
          "height": 34
        },
        "id": "7z40AAZztA0_",
        "outputId": "c188d445-61fd-4db0-9638-2e0fde6815ac"
      },
      "source": [
        "Trans_Agr[1,1]*Trans_Agr[1,2]*Trans_Agr4[2,3]*Trans_Agr[3,5]"
      ],
      "execution_count": null,
      "outputs": [
        {
          "output_type": "display_data",
          "data": {
            "text/plain": [
              "[1] 0.002876221"
            ],
            "text/latex": "0.00287622088728858",
            "text/markdown": "0.00287622088728858",
            "text/html": [
              "0.00287622088728858"
            ]
          },
          "metadata": {
            "tags": []
          }
        }
      ]
    },
    {
      "cell_type": "markdown",
      "metadata": {
        "id": "1niJwETpXqdr"
      },
      "source": [
        "0.29%"
      ]
    },
    {
      "cell_type": "markdown",
      "metadata": {
        "id": "kWQbL5Z9uYun"
      },
      "source": [
        " ***b. ¿Cuál es la probabilidad de que una oportunidad en la etapa A termine siendo\n",
        "ganada después de tres etapas?***"
      ]
    },
    {
      "cell_type": "markdown",
      "metadata": {
        "id": "LtmhyVCauhAU"
      },
      "source": [
        "Para que una oportunidad en la etapa A sea ganada despues de tres etapas se debe dar la secuencia A-B-C-W, ninguna otra secuencia cumple el supuesto de que sea ganada despues de tres etapas."
      ]
    },
    {
      "cell_type": "markdown",
      "metadata": {
        "id": "_ZjITfSou_ST"
      },
      "source": [
        " $$P(X_3=W, X_2=C, X_1=B | X_0=A )=𝑃(𝑋_1=B|𝑋_0=𝐴)∗𝑃(𝑋_2=C|𝑋_1=B)∗𝑃(𝑋_3=W|𝑋_2=C)$$"
      ]
    },
    {
      "cell_type": "markdown",
      "metadata": {
        "id": "PjxzlPxPv7oW"
      },
      "source": [
        "Respuesta:\n",
        "$$P(X_1=B |X_0=A)=0.2992$$\n",
        "$$P(X_2=C |X_1=B)=0.4540$$\n",
        "$$𝑃(𝑋_3=𝑊|𝑋_2=𝐶)=0.2415$$"
      ]
    },
    {
      "cell_type": "code",
      "metadata": {
        "colab": {
          "base_uri": "https://localhost:8080/",
          "height": 34
        },
        "id": "gHzZMyiRv6Uf",
        "outputId": "e5f43a12-c86c-48a9-d04b-80e40246228d"
      },
      "source": [
        "Trans_Agr[1,2]*Trans_Agr[2,3]*Trans_Agr[3,5]"
      ],
      "execution_count": null,
      "outputs": [
        {
          "output_type": "display_data",
          "data": {
            "text/plain": [
              "[1] 0.03279851"
            ],
            "text/latex": "0.0327985059745549",
            "text/markdown": "0.0327985059745549",
            "text/html": [
              "0.0327985059745549"
            ]
          },
          "metadata": {
            "tags": []
          }
        }
      ]
    },
    {
      "cell_type": "markdown",
      "metadata": {
        "id": "LjkBX5QqXndR"
      },
      "source": [
        "3.28%"
      ]
    },
    {
      "cell_type": "markdown",
      "metadata": {
        "id": "uUq-702VxeSx"
      },
      "source": [
        " ***c. Realice un gráfico que muestre cómo cambia la probabilidad anterior si se calcula\n",
        "desde tres a diez etapas, pA−Won\n",
        "(3)\n",
        ", pA−Won\n",
        "(4)\n",
        ", ... , pA−Won\n",
        "(10)\n",
        ". Analice los resultados.***"
      ]
    },
    {
      "cell_type": "markdown",
      "metadata": {
        "id": "F_Gpo2-IxkxF"
      },
      "source": [
        "Primero, debemos entender que una trayectoria A-W en n etapas implica que debe haber una trayectoria A-C en n-1 etapas. Por ejemplo, A-W en 5 etapas debe ser desglozado como A-C en 4 etapas y C-W en 1 etapa. Podemos crear entonces una funcion que tenga como argumento el numero de etapas desde el cual la probabilidad A-W se desea calcular, y que retorne la probabilidad de esta trayectoria en las respectivas etapas.\n"
      ]
    },
    {
      "cell_type": "code",
      "metadata": {
        "id": "ME-Jgl0GzWE8"
      },
      "source": [
        "#Creamos la función\n",
        "Paw<-function(n){\n",
        "  M<-Trans_Agr%^%(n-1)\n",
        "  j<-M[1,3]*Trans_Agr[3,5]\n",
        "  return(j)\n",
        "}\n",
        "\n",
        "#Confirmamos que la funcion sirve ingresando 3 etapas. Deberia dar el mismo\n",
        "#resultado del punto \"b\"\n",
        "Paw(3)\n",
        "\n"
      ],
      "execution_count": null,
      "outputs": []
    },
    {
      "cell_type": "code",
      "metadata": {
        "colab": {
          "base_uri": "https://localhost:8080/",
          "height": 437
        },
        "id": "E8ngE9lW_55S",
        "outputId": "0e0bae60-252c-4816-9dd0-6863036eb38b"
      },
      "source": [
        "#Una vez confirmamos que la funcion sirve, podemos llenar un vector con los\n",
        "#distinntos valores de la funcion, usando de 3 a 10 etapas\n",
        "\n",
        "vec<-vector()\n",
        "\n",
        "num<-c(3,4,5,6,7,8,9,10)\n",
        "\n",
        "\n",
        "for(k in num){\n",
        "\n",
        "    vec[k-2]<-Paw(k)\n",
        "}\n",
        "\n",
        "\n",
        "plot(num, vec, main=\"Paw(n)\",\n",
        "   xlab=\"Transiciones \", ylab=\"Probabilidad \", pch=19)"
      ],
      "execution_count": null,
      "outputs": [
        {
          "output_type": "display_data",
          "data": {
            "image/png": "[encoded data removed]",
            "text/plain": [
              "Plot with title “Paw(n)”"
            ]
          },
          "metadata": {
            "tags": [],
            "image/png": {
              "width": 420,
              "height": 420
            }
          }
        }
      ]
    },
    {
      "cell_type": "markdown",
      "metadata": {
        "id": "ZQaJSdmqZ0be"
      },
      "source": [
        ""
      ]
    },
    {
      "cell_type": "markdown",
      "metadata": {
        "id": "Z9WHlXh-AQUk"
      },
      "source": [
        "Observando el grafico de la funcion $$P_{aw}(n), 3≤n≤10$$ podemos decir que es mas probable que, partiendo desde la etapa A, una oportunidad de negocio se de como ganada en 4 transiciones exactamente. La probabilidad de que se de exatamente en 3 y en 5 es muy parecida. Del mismo modo, a partir de 4 transiciones, a medida que el numero de transiciones necesarias aumenta, la probabilidad de que la oportunidad de negocios se de como ganada empieza a disminuir. En cuanto a recomendaciones para la empresa WSES, podriamos decir que esta debe intentar que las transiciones necesarias para que una oportunidad de negocios sea ganada este entre 3 y 5 transiciones, preferiblemente en 4. Si el numero de transiciones es mayor a 5, será menos probable que la oportunidad de negocios surga."
      ]
    },
    {
      "cell_type": "markdown",
      "metadata": {
        "id": "08uhCjN9ASc4"
      },
      "source": [
        " ***d. En el largo plazo, ¿cuál es la probabilidad de que una oportunidad llegue a C y\n",
        "termine por ser perdida?***"
      ]
    },
    {
      "cell_type": "code",
      "metadata": {
        "colab": {
          "base_uri": "https://localhost:8080/",
          "height": 159
        },
        "id": "VJCxQz2BAzBT",
        "outputId": "ffb7fa38-8e55-4e32-ebf9-68e47b50f7e0"
      },
      "source": [
        "absAgr<-absorptionProbabilities(mcAgregada)\n",
        "absAgr"
      ],
      "execution_count": null,
      "outputs": [
        {
          "output_type": "display_data",
          "data": {
            "text/plain": [
              "  L         W        \n",
              "A 0.8427614 0.1572386\n",
              "B 0.7396081 0.2603919\n",
              "C 0.6550388 0.3449612"
            ],
            "text/latex": "A matrix: 3 × 2 of type dbl\n\\begin{tabular}{r|ll}\n  & L & W\\\\\n\\hline\n\tA & 0.8427614 & 0.1572386\\\\\n\tB & 0.7396081 & 0.2603919\\\\\n\tC & 0.6550388 & 0.3449612\\\\\n\\end{tabular}\n",
            "text/markdown": "\nA matrix: 3 × 2 of type dbl\n\n| <!--/--> | L | W |\n|---|---|---|\n| A | 0.8427614 | 0.1572386 |\n| B | 0.7396081 | 0.2603919 |\n| C | 0.6550388 | 0.3449612 |\n\n",
            "text/html": [
              "<table class=\"dataframe\">\n",
              "<caption>A matrix: 3 × 2 of type dbl</caption>\n",
              "<thead>\n",
              "\t<tr><th></th><th scope=col>L</th><th scope=col>W</th></tr>\n",
              "</thead>\n",
              "<tbody>\n",
              "\t<tr><th scope=row>A</th><td>0.8427614</td><td>0.1572386</td></tr>\n",
              "\t<tr><th scope=row>B</th><td>0.7396081</td><td>0.2603919</td></tr>\n",
              "\t<tr><th scope=row>C</th><td>0.6550388</td><td>0.3449612</td></tr>\n",
              "</tbody>\n",
              "</table>\n"
            ]
          },
          "metadata": {
            "tags": []
          }
        }
      ]
    },
    {
      "cell_type": "markdown",
      "metadata": {
        "id": "M2awbJBhBS50"
      },
      "source": [
        "Respuesta:"
      ]
    },
    {
      "cell_type": "code",
      "metadata": {
        "colab": {
          "base_uri": "https://localhost:8080/",
          "height": 34
        },
        "id": "8OjR3Ez-BUAD",
        "outputId": "5ee01deb-7e73-4691-ef77-cfda675c9b6e"
      },
      "source": [
        "absAgr[3,1]"
      ],
      "execution_count": null,
      "outputs": [
        {
          "output_type": "display_data",
          "data": {
            "text/plain": [
              "[1] 0.6550388"
            ],
            "text/latex": "0.655038759689923",
            "text/markdown": "0.655038759689923",
            "text/html": [
              "0.655038759689923"
            ]
          },
          "metadata": {
            "tags": []
          }
        }
      ]
    },
    {
      "cell_type": "markdown",
      "metadata": {
        "id": "-10QXsKRXgHs"
      },
      "source": [
        "65.50%"
      ]
    },
    {
      "cell_type": "markdown",
      "metadata": {
        "id": "_x4ach0lGosO"
      },
      "source": [
        "**6. Obtenga las probabilidades de absorción y tiempos esperados de absorción.**"
      ]
    },
    {
      "cell_type": "code",
      "metadata": {
        "colab": {
          "base_uri": "https://localhost:8080/",
          "height": 511
        },
        "id": "T_YAcd3nGujN",
        "outputId": "a9ff2859-f132-425a-f108-09b58e3d9b35"
      },
      "source": [
        "#Sacamos las probabilidades de absorcion para cada mes y para la matriz agregada\n",
        "absNov<-absorptionProbabilities(mcNoviembre)\n",
        "absDic<-absorptionProbabilities(mcDiciembre)\n",
        "absEne<-absorptionProbabilities(mcEnero)\n",
        "absAgr<-absorptionProbabilities(mcAgregada)\n",
        "\n",
        "\"Noviembre\"\n",
        "absNov\n",
        "\n",
        "\"Diciembre\"\n",
        "\n",
        "\"Enero\"\n",
        "\n",
        "absEne\n",
        "\"M. Agregada\"\n",
        "\n",
        "absAgr\n",
        "\n"
      ],
      "execution_count": null,
      "outputs": [
        {
          "output_type": "display_data",
          "data": {
            "text/plain": [
              "[1] \"Noviembre\""
            ],
            "text/latex": "'Noviembre'",
            "text/markdown": "'Noviembre'",
            "text/html": [
              "'Noviembre'"
            ]
          },
          "metadata": {
            "tags": []
          }
        },
        {
          "output_type": "display_data",
          "data": {
            "text/plain": [
              "  L         W        \n",
              "A 0.8398840 0.1601160\n",
              "B 0.7351530 0.2648470\n",
              "C 0.6482865 0.3517135"
            ],
            "text/latex": "A matrix: 3 × 2 of type dbl\n\\begin{tabular}{r|ll}\n  & L & W\\\\\n\\hline\n\tA & 0.8398840 & 0.1601160\\\\\n\tB & 0.7351530 & 0.2648470\\\\\n\tC & 0.6482865 & 0.3517135\\\\\n\\end{tabular}\n",
            "text/markdown": "\nA matrix: 3 × 2 of type dbl\n\n| <!--/--> | L | W |\n|---|---|---|\n| A | 0.8398840 | 0.1601160 |\n| B | 0.7351530 | 0.2648470 |\n| C | 0.6482865 | 0.3517135 |\n\n",
            "text/html": [
              "<table class=\"dataframe\">\n",
              "<caption>A matrix: 3 × 2 of type dbl</caption>\n",
              "<thead>\n",
              "\t<tr><th></th><th scope=col>L</th><th scope=col>W</th></tr>\n",
              "</thead>\n",
              "<tbody>\n",
              "\t<tr><th scope=row>A</th><td>0.8398840</td><td>0.1601160</td></tr>\n",
              "\t<tr><th scope=row>B</th><td>0.7351530</td><td>0.2648470</td></tr>\n",
              "\t<tr><th scope=row>C</th><td>0.6482865</td><td>0.3517135</td></tr>\n",
              "</tbody>\n",
              "</table>\n"
            ]
          },
          "metadata": {
            "tags": []
          }
        },
        {
          "output_type": "display_data",
          "data": {
            "text/plain": [
              "[1] \"Diciembre\""
            ],
            "text/latex": "'Diciembre'",
            "text/markdown": "'Diciembre'",
            "text/html": [
              "'Diciembre'"
            ]
          },
          "metadata": {
            "tags": []
          }
        },
        {
          "output_type": "display_data",
          "data": {
            "text/plain": [
              "[1] \"Enero\""
            ],
            "text/latex": "'Enero'",
            "text/markdown": "'Enero'",
            "text/html": [
              "'Enero'"
            ]
          },
          "metadata": {
            "tags": []
          }
        },
        {
          "output_type": "display_data",
          "data": {
            "text/plain": [
              "  L         W        \n",
              "A 0.8451000 0.1549000\n",
              "B 0.7410565 0.2589435\n",
              "C 0.6569214 0.3430786"
            ],
            "text/latex": "A matrix: 3 × 2 of type dbl\n\\begin{tabular}{r|ll}\n  & L & W\\\\\n\\hline\n\tA & 0.8451000 & 0.1549000\\\\\n\tB & 0.7410565 & 0.2589435\\\\\n\tC & 0.6569214 & 0.3430786\\\\\n\\end{tabular}\n",
            "text/markdown": "\nA matrix: 3 × 2 of type dbl\n\n| <!--/--> | L | W |\n|---|---|---|\n| A | 0.8451000 | 0.1549000 |\n| B | 0.7410565 | 0.2589435 |\n| C | 0.6569214 | 0.3430786 |\n\n",
            "text/html": [
              "<table class=\"dataframe\">\n",
              "<caption>A matrix: 3 × 2 of type dbl</caption>\n",
              "<thead>\n",
              "\t<tr><th></th><th scope=col>L</th><th scope=col>W</th></tr>\n",
              "</thead>\n",
              "<tbody>\n",
              "\t<tr><th scope=row>A</th><td>0.8451000</td><td>0.1549000</td></tr>\n",
              "\t<tr><th scope=row>B</th><td>0.7410565</td><td>0.2589435</td></tr>\n",
              "\t<tr><th scope=row>C</th><td>0.6569214</td><td>0.3430786</td></tr>\n",
              "</tbody>\n",
              "</table>\n"
            ]
          },
          "metadata": {
            "tags": []
          }
        },
        {
          "output_type": "display_data",
          "data": {
            "text/plain": [
              "[1] \"M. Agregada\""
            ],
            "text/latex": "'M. Agregada'",
            "text/markdown": "'M. Agregada'",
            "text/html": [
              "'M. Agregada'"
            ]
          },
          "metadata": {
            "tags": []
          }
        },
        {
          "output_type": "display_data",
          "data": {
            "text/plain": [
              "  L         W        \n",
              "A 0.8427614 0.1572386\n",
              "B 0.7396081 0.2603919\n",
              "C 0.6550388 0.3449612"
            ],
            "text/latex": "A matrix: 3 × 2 of type dbl\n\\begin{tabular}{r|ll}\n  & L & W\\\\\n\\hline\n\tA & 0.8427614 & 0.1572386\\\\\n\tB & 0.7396081 & 0.2603919\\\\\n\tC & 0.6550388 & 0.3449612\\\\\n\\end{tabular}\n",
            "text/markdown": "\nA matrix: 3 × 2 of type dbl\n\n| <!--/--> | L | W |\n|---|---|---|\n| A | 0.8427614 | 0.1572386 |\n| B | 0.7396081 | 0.2603919 |\n| C | 0.6550388 | 0.3449612 |\n\n",
            "text/html": [
              "<table class=\"dataframe\">\n",
              "<caption>A matrix: 3 × 2 of type dbl</caption>\n",
              "<thead>\n",
              "\t<tr><th></th><th scope=col>L</th><th scope=col>W</th></tr>\n",
              "</thead>\n",
              "<tbody>\n",
              "\t<tr><th scope=row>A</th><td>0.8427614</td><td>0.1572386</td></tr>\n",
              "\t<tr><th scope=row>B</th><td>0.7396081</td><td>0.2603919</td></tr>\n",
              "\t<tr><th scope=row>C</th><td>0.6550388</td><td>0.3449612</td></tr>\n",
              "</tbody>\n",
              "</table>\n"
            ]
          },
          "metadata": {
            "tags": []
          }
        }
      ]
    },
    {
      "cell_type": "code",
      "metadata": {
        "colab": {
          "base_uri": "https://localhost:8080/",
          "height": 204
        },
        "id": "C0veg1AwHE1s",
        "outputId": "f212a34a-8ba7-4354-cd1b-ab0663a26973"
      },
      "source": [
        "#Sacamos los tiempos esperados de absorcion para cada mes y para la matriz agregada\n",
        "tNov<-meanAbsorptionTime(mcNoviembre)\n",
        "tDic<-meanAbsorptionTime(mcDiciembre)\n",
        "tEne<-meanAbsorptionTime(mcEnero)\n",
        "tAgr<-meanAbsorptionTime(mcAgregada)\n",
        "\n",
        "\"Noviembre\"\n",
        "tNov\n",
        "\"··\"\n",
        "\"Diciembre\"\n",
        "tDic\n",
        "\"··\"\n",
        "\"Enero\"\n",
        "tEne\n",
        "\"··\"\n",
        "\"M. Agregada\"\n",
        "tAgr"
      ],
      "execution_count": null,
      "outputs": [
        {
          "output_type": "display_data",
          "data": {
            "text/plain": [
              "[1] \"Noviembre\""
            ],
            "text/latex": "'Noviembre'",
            "text/markdown": "'Noviembre'",
            "text/html": [
              "'Noviembre'"
            ]
          },
          "metadata": {
            "tags": []
          }
        },
        {
          "output_type": "display_data",
          "data": {
            "text/plain": [
              "       A        B        C \n",
              "3.682368 2.734822 1.423111 "
            ],
            "text/latex": "\\begin{description*}\n\\item[A] 3.68236823682368\n\\item[B] 2.73482216708023\n\\item[C] 1.42311072056239\n\\end{description*}\n",
            "text/markdown": "A\n:   3.68236823682368B\n:   2.73482216708023C\n:   1.42311072056239\n\n",
            "text/html": [
              "<style>\n",
              ".dl-inline {width: auto; margin:0; padding: 0}\n",
              ".dl-inline>dt, .dl-inline>dd {float: none; width: auto; display: inline-block}\n",
              ".dl-inline>dt::after {content: \":\\0020\"; padding-right: .5ex}\n",
              ".dl-inline>dt:not(:first-of-type) {padding-left: .5ex}\n",
              "</style><dl class=dl-inline><dt>A</dt><dd>3.68236823682368</dd><dt>B</dt><dd>2.73482216708023</dd><dt>C</dt><dd>1.42311072056239</dd></dl>\n"
            ]
          },
          "metadata": {
            "tags": []
          }
        },
        {
          "output_type": "display_data",
          "data": {
            "text/plain": [
              "[1] \"··\""
            ],
            "text/latex": "'··'",
            "text/markdown": "'··'",
            "text/html": [
              "'··'"
            ]
          },
          "metadata": {
            "tags": []
          }
        },
        {
          "output_type": "display_data",
          "data": {
            "text/plain": [
              "[1] \"Diciembre\""
            ],
            "text/latex": "'Diciembre'",
            "text/markdown": "'Diciembre'",
            "text/html": [
              "'Diciembre'"
            ]
          },
          "metadata": {
            "tags": []
          }
        },
        {
          "output_type": "display_data",
          "data": {
            "text/plain": [
              "       A        B        C \n",
              "3.677400 2.737024 1.426308 "
            ],
            "text/latex": "\\begin{description*}\n\\item[A] 3.6774\n\\item[B] 2.73702365308804\n\\item[C] 1.42630779248969\n\\end{description*}\n",
            "text/markdown": "A\n:   3.6774B\n:   2.73702365308804C\n:   1.42630779248969\n\n",
            "text/html": [
              "<style>\n",
              ".dl-inline {width: auto; margin:0; padding: 0}\n",
              ".dl-inline>dt, .dl-inline>dd {float: none; width: auto; display: inline-block}\n",
              ".dl-inline>dt::after {content: \":\\0020\"; padding-right: .5ex}\n",
              ".dl-inline>dt:not(:first-of-type) {padding-left: .5ex}\n",
              "</style><dl class=dl-inline><dt>A</dt><dd>3.6774</dd><dt>B</dt><dd>2.73702365308804</dd><dt>C</dt><dd>1.42630779248969</dd></dl>\n"
            ]
          },
          "metadata": {
            "tags": []
          }
        },
        {
          "output_type": "display_data",
          "data": {
            "text/plain": [
              "[1] \"··\""
            ],
            "text/latex": "'··'",
            "text/markdown": "'··'",
            "text/html": [
              "'··'"
            ]
          },
          "metadata": {
            "tags": []
          }
        },
        {
          "output_type": "display_data",
          "data": {
            "text/plain": [
              "[1] \"Enero\""
            ],
            "text/latex": "'Enero'",
            "text/markdown": "'Enero'",
            "text/html": [
              "'Enero'"
            ]
          },
          "metadata": {
            "tags": []
          }
        },
        {
          "output_type": "display_data",
          "data": {
            "text/plain": [
              "       A        B        C \n",
              "3.661100 2.750919 1.436323 "
            ],
            "text/latex": "\\begin{description*}\n\\item[A] 3.6611\n\\item[B] 2.75091942494149\n\\item[C] 1.43632336655592\n\\end{description*}\n",
            "text/markdown": "A\n:   3.6611B\n:   2.75091942494149C\n:   1.43632336655592\n\n",
            "text/html": [
              "<style>\n",
              ".dl-inline {width: auto; margin:0; padding: 0}\n",
              ".dl-inline>dt, .dl-inline>dd {float: none; width: auto; display: inline-block}\n",
              ".dl-inline>dt::after {content: \":\\0020\"; padding-right: .5ex}\n",
              ".dl-inline>dt:not(:first-of-type) {padding-left: .5ex}\n",
              "</style><dl class=dl-inline><dt>A</dt><dd>3.6611</dd><dt>B</dt><dd>2.75091942494149</dd><dt>C</dt><dd>1.43632336655592</dd></dl>\n"
            ]
          },
          "metadata": {
            "tags": []
          }
        },
        {
          "output_type": "display_data",
          "data": {
            "text/plain": [
              "[1] \"··\""
            ],
            "text/latex": "'··'",
            "text/markdown": "'··'",
            "text/html": [
              "'··'"
            ]
          },
          "metadata": {
            "tags": []
          }
        },
        {
          "output_type": "display_data",
          "data": {
            "text/plain": [
              "[1] \"M. Agregada\""
            ],
            "text/latex": "'M. Agregada'",
            "text/markdown": "'M. Agregada'",
            "text/html": [
              "'M. Agregada'"
            ]
          },
          "metadata": {
            "tags": []
          }
        },
        {
          "output_type": "display_data",
          "data": {
            "text/plain": [
              "       A        B        C \n",
              "3.673622 2.740878 1.428551 "
            ],
            "text/latex": "\\begin{description*}\n\\item[A] 3.6736224540818\n\\item[B] 2.74087772564173\n\\item[C] 1.42855053385988\n\\end{description*}\n",
            "text/markdown": "A\n:   3.6736224540818B\n:   2.74087772564173C\n:   1.42855053385988\n\n",
            "text/html": [
              "<style>\n",
              ".dl-inline {width: auto; margin:0; padding: 0}\n",
              ".dl-inline>dt, .dl-inline>dd {float: none; width: auto; display: inline-block}\n",
              ".dl-inline>dt::after {content: \":\\0020\"; padding-right: .5ex}\n",
              ".dl-inline>dt:not(:first-of-type) {padding-left: .5ex}\n",
              "</style><dl class=dl-inline><dt>A</dt><dd>3.6736224540818</dd><dt>B</dt><dd>2.74087772564173</dd><dt>C</dt><dd>1.42855053385988</dd></dl>\n"
            ]
          },
          "metadata": {
            "tags": []
          }
        }
      ]
    },
    {
      "cell_type": "markdown",
      "metadata": {
        "id": "KCIAiC0VIXfD"
      },
      "source": [
        "**7. Al inicio de este cuarto de año existen 50000 oportunidades en la etapa A, 30000 en la etapa\n",
        "B y 15000 en la etapa C. Si se conoce que el ingreso promedio por oportunidad es de 60.000\n",
        "USD ¿Cuál sería el pronóstico de ventas en USD?**"
      ]
    },
    {
      "cell_type": "code",
      "metadata": {
        "colab": {
          "base_uri": "https://localhost:8080/",
          "height": 34
        },
        "id": "0WHlkihALu7d",
        "outputId": "a4411ff3-ce98-4e7c-a229-d1df8d2efa37"
      },
      "source": [
        "#Creamos un vector de las oportunidades existentes en las distintas etapas\n",
        "#y declaramos el ingreso promedio\n",
        "meanInc<-60000\n",
        "Etapas<-c(50000,30000,15000)\n",
        "\n",
        "#Con base en la probabilidad de absorcion, creamos un vector de numero de\n",
        "#oportunidades a ganar, multiplicando la probabilidad de absorcion desde cada\n",
        "#estado por el numero de oportunidades en cada estado\n",
        "Ganar<-c(Etapas[1]*absAgr[1,2], Etapas[2]*absAgr[2,2], Etapas[3]*absAgr[3,2])\n",
        "\n",
        "\n",
        "#Calculamos los ingresos de cada numero de oportunidades a ganar\n",
        "Income<-meanInc*(c(Ganar[1], Ganar[2], Ganar[3]))\n",
        "\n",
        "\n",
        "#Calculamos el pronostico de ventas total en USD\n",
        "Forecast<-Income[1]+Income[2]+Income[3]\n",
        "Forecast"
      ],
      "execution_count": null,
      "outputs": [
        {
          "output_type": "display_data",
          "data": {
            "text/plain": [
              "[1] 1250886333"
            ],
            "text/latex": "1250886332.82215",
            "text/markdown": "1250886332.82215",
            "text/html": [
              "1250886332.82215"
            ]
          },
          "metadata": {
            "tags": []
          }
        }
      ]
    },
    {
      "cell_type": "markdown",
      "metadata": {
        "id": "HOgHQORLXwEn"
      },
      "source": [
        "$ 1'250,886,332.82"
      ]
    },
    {
      "cell_type": "markdown",
      "metadata": {
        "id": "c_aJaaJRTHfA"
      },
      "source": [
        "Se utiliza la matriz agregada desués de haber demostrado que son matrices homogéneas, pues no se sabe en qué mes se dio cada oportunidad. Por esta misma razón se utilizan las probabilidades de absorsion a largo plazo, pues no se conoce el número de transiciones de cada oportunidad. "
      ]
    }
  ]
}